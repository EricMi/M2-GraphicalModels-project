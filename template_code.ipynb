{
 "cells": [
  {
   "cell_type": "code",
   "execution_count": 1,
   "metadata": {},
   "outputs": [],
   "source": [
    "import numpy as np\n",
    "from scipy.stats import norm\n",
    "eps = np.finfo(float).eps"
   ]
  },
  {
   "cell_type": "code",
   "execution_count": 2,
   "metadata": {},
   "outputs": [
    {
     "data": {
      "image/png": "[encoded data removed]",
      "text/plain": [
       "<matplotlib.figure.Figure at 0x1140312b0>"
      ]
     },
     "metadata": {},
     "output_type": "display_data"
    },
    {
     "name": "stdout",
     "output_type": "stream",
     "text": [
      "123\n"
     ]
    }
   ],
   "source": [
    "%run -i 'generate_barcode.py'\n",
    "print(np.asarray(stripes).size)"
   ]
  },
  {
   "cell_type": "code",
   "execution_count": 3,
   "metadata": {},
   "outputs": [
    {
     "name": "stdout",
     "output_type": "stream",
     "text": [
      "(865, 3)\n"
     ]
    }
   ],
   "source": [
    "S = len(patterns)\n",
    "patternLengths = np.zeros(S, dtype=int)\n",
    "for s in range(S):\n",
    "    patternLengths[s] = len(patterns[s])\n",
    "\n",
    "M = 6\n",
    "C = patternLengths.max()\n",
    "NumStates = C * S * M\n",
    "\n",
    "# Enumerate all the states\n",
    "States = np.zeros((NumStates,3), dtype=int) - 1\n",
    "StatesInv = np.zeros((C,S,M), dtype=int) - 1    # ix for a spesific c,s,m\n",
    "ix = 0\n",
    "for c in range(1,C+1):\n",
    "    for s in range(S):\n",
    "        for m in range(1,M+1):\n",
    "            if (s>4) or (s<=4 and m==1):\n",
    "                if c <= patternLengths[s]:\n",
    "                    States[ix,:] = [c,s,m]\n",
    "                    StatesInv[c-1,s,m-1] = ix\n",
    "                    ix += 1\n",
    "NumStates = ix\n",
    "States = States[0:NumStates, :]\n",
    "print(States.shape)\n",
    "# print(StatesInv[0])"
   ]
  },
  {
   "cell_type": "code",
   "execution_count": 4,
   "metadata": {},
   "outputs": [],
   "source": [
    "# Part1: Fill the transition matrix A\n",
    "# mapping states to binaru numbers, which will be useful for computing the likelihood\n",
    "# c, m 作为下标时 -1\n",
    "f_kst = np.zeros(NumStates, dtype=int)\n",
    "A = np.zeros((NumStates,NumStates))\n",
    "\n",
    "for i in range(NumStates):\n",
    "    c = States[i,0]\n",
    "    s = States[i,1]\n",
    "    m = States[i,2]\n",
    "    \n",
    "    patternLen = patternLengths[s]\n",
    "    f_kst[i] = patterns[s][c-1]    # deternines if this state is black or white\n",
    "    \n",
    "    if s==0:    #starting quiet zone\n",
    "        if c==patternLen:\n",
    "            for ss in [0,2]:  # The next states can only be either starting quiet zone, or the starting guard\n",
    "                s_next = ss\n",
    "                c_next = 1\n",
    "                m_next = 1\n",
    "                \n",
    "                nextStateIx = StatesInv[c_next-1,s_next,m_next-1]\n",
    "                A[nextStateIx,i] = 1/2\n",
    "        else:\n",
    "            c_next = c+1\n",
    "            s_next = s\n",
    "            m_next = m\n",
    "            \n",
    "            nextStateIx = StatesInv[c_next-1,s_next,m_next-1]\n",
    "            A[nextStateIx,i] = 1\n",
    "            \n",
    "    elif s==1:    # ending quiet zone\n",
    "        if c==patternLen:\n",
    "            c_next = 1\n",
    "            s_next = s\n",
    "            m_next = m\n",
    "            nextStateIx = StatesInv[c_next-1,s_next,m_next-1]\n",
    "            A[nextStateIx,i] = 1\n",
    "        else:\n",
    "            c_next = c+1\n",
    "            s_next = s\n",
    "            m_next = m\n",
    "            nextStateIx = StatesInv[c_next-1,s_next,m_next-1]\n",
    "            A[nextStateIx,i] = 1\n",
    "            \n",
    "    elif s==2:    # starting guard\n",
    "        if c==patternLen:    # starting the first left digit\n",
    "            c_next = 1\n",
    "            m_next = 1\n",
    "            for ss in range(5,15):\n",
    "                s_next = ss\n",
    "                nextStateIx = StatesInv[c_next-1,s_next,m_next-1]\n",
    "                A[nextStateIx,i] = 1/10\n",
    "        else:\n",
    "            c_next = c+1\n",
    "            s_next = s\n",
    "            m_next = m\n",
    "            nextStateIx = StatesInv[c_next-1,s_next,m_next-1]\n",
    "            A[nextStateIx,i] = 1\n",
    "            \n",
    "    elif s==3:    # ending guard\n",
    "        if c==patternLen:\n",
    "            s_next = 1\n",
    "            c_next = 1\n",
    "            m_next = 1\n",
    "        else:\n",
    "            c_next = c+1\n",
    "            s_next = s\n",
    "            m_next = m\n",
    "        nextStateIx = StatesInv[c_next-1,s_next,m_next-1]\n",
    "        A[nextStateIx,i] = 1\n",
    "    \n",
    "    elif s==4:    #middle guard\n",
    "        if c==patternLen:    # starting the first right digit\n",
    "            c_next = 1\n",
    "            m_next = 1\n",
    "            for ss in range(15,25):\n",
    "                s_next = ss\n",
    "                nextStateIx = StatesInv[c_next-1,s_next,m_next-1]\n",
    "                A[nextStateIx,i] = 1/10\n",
    "        else:\n",
    "            c_next = c+1\n",
    "            s_next = s\n",
    "            m_next = m\n",
    "            nextStateIx = StatesInv[c_next-1,s_next,m_next-1]\n",
    "            A[nextStateIx,i] = 1\n",
    "    \n",
    "    elif s in range(5,15):    # left symbols\n",
    "        if c==patternLen:    \n",
    "            c_next = 1\n",
    "            if m==6:    # end of left digits\n",
    "                s_next = 4\n",
    "                m_next = 1\n",
    "                nextStateIx = StatesInv[c_next-1,s_next,m_next-1]\n",
    "                A[nextStateIx,i] = 1\n",
    "            else:    # starting the next left digit\n",
    "                m_next = m+1\n",
    "                for ss in range(5,15):\n",
    "                    s_next = ss\n",
    "                    nextStateIx = StatesInv[c_next-1,s_next,m_next-1]\n",
    "                    A[nextStateIx,i] = 1/10\n",
    "        else:\n",
    "            c_next = c+1\n",
    "            s_next = s\n",
    "            m_next = m\n",
    "            nextStateIx = StatesInv[c_next-1,s_next,m_next-1]\n",
    "            A[nextStateIx,i] = 1\n",
    "            \n",
    "    elif s in range(15,25):    # right symbols\n",
    "        if c==patternLen:\n",
    "            c_next = 1\n",
    "            if m==6:    # end of right digits\n",
    "                s_next = 3\n",
    "                m_next = 1\n",
    "                nextStateIx = StatesInv[c_next-1,s_next,m_next-1]\n",
    "                A[nextStateIx,i] = 1\n",
    "            else:    # the next right digit\n",
    "                m_next = m+1\n",
    "                for ss in range(15,25):\n",
    "                    s_next = ss\n",
    "                    nextStateIx = StatesInv[c_next-1,s_next,m_next-1]\n",
    "                    A[nextStateIx,i] = 1/10\n",
    "        else:\n",
    "            c_next = c+1\n",
    "            s_next = s\n",
    "            m_next = m\n",
    "            nextStateIx = StatesInv[c_next-1,s_next,m_next-1]\n",
    "            A[nextStateIx,i] = 1\n",
    "\n",
    "A[A < eps] = eps"
   ]
  },
  {
   "cell_type": "code",
   "execution_count": 5,
   "metadata": {},
   "outputs": [],
   "source": [
    "# Part2: Compute the initial probability\n",
    "p_init = np.zeros(NumStates)\n",
    "# Suppose that the initial probability is a uniform distribution over the\n",
    "# states with s_n = 0\n",
    "mask_support_init = States[:, 1] == 0\n",
    "cnt_support_init = np.sum(mask_support_init)\n",
    "\n",
    "p_init[mask_support_init] = 1. / cnt_support_init"
   ]
  },
  {
   "cell_type": "code",
   "execution_count": 6,
   "metadata": {},
   "outputs": [],
   "source": [
    "# Part3: Compute the log-likelihood\n",
    "T = len(obs)\n",
    "\n",
    "logObs = np.zeros((NumStates, T))\n",
    "mu= np.array([250, 20])\n",
    "sigma = np.array([np.sqrt(5), np.sqrt(5)])\n",
    "\n",
    "for t in range(0, T):\n",
    "    # you can use the variable f_kst here\n",
    "    logObs[:, t] = [norm.logpdf(255 - obs[t], mu[i], sigma[i]) for i in f_kst]"
   ]
  },
  {
   "cell_type": "code",
   "execution_count": 7,
   "metadata": {
    "scrolled": false
   },
   "outputs": [],
   "source": [
    "# Question 3: Simulate the HMM and visualize the simulated data.\n",
    "np.random.seed(1)\n",
    "\n",
    "p_state = p_init\n",
    "s_states = np.empty((1, 0), dtype=int)\n",
    "s_obs = np.empty((1, 0))\n",
    "state = 0\n",
    "while state != StatesInv[6, 1, 0]:\n",
    "    r = np.random.uniform(0, p_state.sum())\n",
    "    state = np.sum([p_state.cumsum() < r])\n",
    "    s_states = np.append(s_states, state)\n",
    "    s_obs = np.append(s_obs, np.random.normal(mu[f_kst[state]], sigma[f_kst[state]]))\n",
    "    p_state = A[:, state]\n",
    "s_obs[s_obs < 0] = 0\n",
    "s_obs[s_obs > 255] = 255"
   ]
  },
  {
   "cell_type": "code",
   "execution_count": 8,
   "metadata": {},
   "outputs": [
    {
     "data": {
      "text/plain": [
       "107"
      ]
     },
     "execution_count": 8,
     "metadata": {},
     "output_type": "execute_result"
    }
   ],
   "source": [
    "len(s_obs)"
   ]
  },
  {
   "cell_type": "code",
   "execution_count": 9,
   "metadata": {},
   "outputs": [
    {
     "data": {
      "text/plain": [
       "array([1, 8, 4, 5, 2, 5, 9, 5, 0, 0, 7, 9])"
      ]
     },
     "execution_count": 9,
     "metadata": {},
     "output_type": "execute_result"
    }
   ],
   "source": [
    "s_symbols = np.array([States[i, 1] for i in s_states if States[i, 0] == 1])\n",
    "s_code = s_symbols[s_symbols > 4]\n",
    "s_code[s_code < 15] -= 5\n",
    "s_code[s_code > 14] -= 15\n",
    "s_code"
   ]
  },
  {
   "cell_type": "code",
   "execution_count": 10,
   "metadata": {},
   "outputs": [
    {
     "data": {
      "image/png": "[encoded data removed]",
      "text/plain": [
       "<matplotlib.figure.Figure at 0x114272160>"
      ]
     },
     "metadata": {},
     "output_type": "display_data"
    }
   ],
   "source": [
    "# generate the image\n",
    "plt.figure()\n",
    "bc_image = np.tile(s_obs, (50,1))\n",
    "plt.axis(\"off\")\n",
    "plt.imshow(bc_image, cmap='gray',vmin=0,vmax=255)\n",
    "# cmap = 'gray'  : 0-black   1-white\n",
    "# cmap = 'Grays' : 0-white   1-black\n",
    "plt.title(str(s_code))\n",
    "plt.show()"
   ]
  },
  {
   "cell_type": "code",
   "execution_count": 11,
   "metadata": {},
   "outputs": [
    {
     "name": "stderr",
     "output_type": "stream",
     "text": [
      "generate_barcode.py:22: RuntimeWarning: invalid value encountered in true_divide\n",
      "  stripes = stripes + patterns[code[i] + 5]    # get the code for the corresponding left digit\n"
     ]
    }
   ],
   "source": [
    "# Part 4: Compute the filtering distribution via Forward recursion\n",
    "# For numerical stability\n",
    "p_init[p_init < eps] = eps\n",
    "\n",
    "# log_alpha: update message in forward pass \n",
    "# log_alpha_predict: predict message in forward pass\n",
    "log_alpha = np.zeros((NumStates, T))\n",
    "log_alpha_predict = np.zeros((NumStates, T))\n",
    "for t in range(T):\n",
    "    if t == 0:\n",
    "        log_alpha_predict[:, t] = np.log(p_init)\n",
    "    else:\n",
    "        mx = np.max(log_alpha[:, t - 1])\n",
    "        p = np.exp(log_alpha[:, t - 1] - mx)\n",
    "        log_alpha_predict[:, t] = np.log(A.dot(p)) + mx\n",
    "    log_alpha[:, t] = log_alpha_predict[:, t] + logObs[:, t]\n",
    "\n",
    "# d_filtering: filtering distribution\n",
    "d_filtering = np.zeros((NumStates, T))\n",
    "for t in range(T):\n",
    "    alpha = np.exp(log_alpha[:, t])\n",
    "    d_filtering[:, t] = alpha / np.sum(alpha)\n",
    "\n",
    "# d_marginal_filtering_s: marginal filtering distribution of s\n",
    "# d_marginal_filtering_c: marginal filtering distribution of c\n",
    "# d_marginal_filtering_m: marginal filtering distribution of m\n",
    "d_marginal_filtering_s = np.zeros((S, T))\n",
    "d_marginal_filtering_c = np.zeros((C, T))\n",
    "d_marginal_filtering_m = np.zeros((M, T))\n",
    "for t in range(T):\n",
    "    for s in range(S):\n",
    "        mask_s = [States[:, 1] == s]\n",
    "        d_marginal_filtering_s[s, t] = np.sum(d_filtering[:, t][mask_s])\n",
    "    for c in range(C):\n",
    "        mask_c = [States[:, 0] == c+1]\n",
    "        d_marginal_filtering_c[c, t] = np.sum(d_filtering[:, t][mask_c])\n",
    "    for m in range(M):\n",
    "        mask_m = [States[:, 2] == m+1]\n",
    "        d_marginal_filtering_m[m, t] = np.sum(d_filtering[:, t][mask_m])"
   ]
  },
  {
   "cell_type": "code",
   "execution_count": 12,
   "metadata": {},
   "outputs": [
    {
     "name": "stderr",
     "output_type": "stream",
     "text": [
      "generate_barcode.py:20: RuntimeWarning: invalid value encountered in true_divide\n",
      "  stripes = stripes + patterns[2]    # initial guard\n"
     ]
    }
   ],
   "source": [
    "# Part 5: Compute the smoothing distribution via Forward-Backward recursion\n",
    "\n",
    "# log_beta: update message in backward pass\n",
    "# log_beta_postdict: postdict message in backward pass\n",
    "log_beta = np.zeros((NumStates, T))\n",
    "log_beta_postdict = np.zeros((NumStates, T))\n",
    "for t in range(T-1,-1,-1):\n",
    "    if t == T-1:\n",
    "        log_beta_postdict[:, t] = np.zeros(NumStates)\n",
    "    else:\n",
    "        mx = np.max(log_beta[:, t + 1])\n",
    "        p = np.exp(log_beta[:, t + 1] - mx)\n",
    "        log_beta_postdict[:, t] = np.log(A.T.dot(p)) + mx\n",
    "    log_beta[:, t] = log_beta_postdict[:, t] + logObs[:, t]\n",
    "\n",
    "# d_smoothing: smoothing distribution\n",
    "d_smoothing = np.zeros((NumStates, T))\n",
    "for t in range(T):\n",
    "    gamma = np.exp(log_alpha[:, t] + log_beta_postdict[:, t])\n",
    "    d_smoothing[:, t] = gamma / np.sum(gamma)\n",
    "\n",
    "# d_marginal_smoothing_s: marginal smoothing distribution of s\n",
    "# d_marginal_smoothing_c: marginal smoothing distribution of c\n",
    "# d_marginal_smoothing_m: marginal smoothing distribution of m\n",
    "d_marginal_smoothing_s = np.zeros((S, T))\n",
    "d_marginal_smoothing_c = np.zeros((C, T))\n",
    "d_marginal_smoothing_m = np.zeros((M, T))\n",
    "for t in range(T):\n",
    "    for s in range(S):\n",
    "        mask_s = [States[:, 1] == s]\n",
    "        d_marginal_smoothing_s[s, t] = np.sum(d_smoothing[:, t][mask_s])\n",
    "    for c in range(C):\n",
    "        mask_c = [States[:, 0] == c+1]\n",
    "        d_marginal_smoothing_c[c, t] = np.sum(d_smoothing[:, t][mask_c])\n",
    "    for m in range(M):\n",
    "        mask_m = [States[:, 2] == m+1]\n",
    "        d_marginal_smoothing_m[m, t] = np.sum(d_smoothing[:, t][mask_m])"
   ]
  },
  {
   "cell_type": "code",
   "execution_count": 13,
   "metadata": {},
   "outputs": [
    {
     "data": {
      "text/plain": [
       "array([  0, 125, 250, 375, 498, 621, 743,   0, 125, 250, 375, 498, 621,\n",
       "       743,   2, 127, 252,   5, 130, 255, 378, 501, 623, 745,  12, 137,\n",
       "       262, 385, 508, 630, 752,  19, 144, 269, 392, 515, 637, 759,  26,\n",
       "       151, 276, 399, 522, 644, 766,  33, 158, 283, 406, 529, 651, 773,\n",
       "        40, 165, 290, 413, 536, 658, 780,   4, 129, 254, 377, 500, 101,\n",
       "       226, 351, 474, 597, 719, 841, 108, 233, 358, 481, 604, 726, 848,\n",
       "       115, 240, 365, 488, 611, 733, 855, 122, 247, 372, 495, 618, 740,\n",
       "       862,  69, 194, 319, 442, 565, 687, 809, 100, 225, 350, 473, 596,\n",
       "       718, 840,   3, 128, 253,   1, 126, 251, 376, 499, 622, 744,   1,\n",
       "       126, 251, 376, 499, 622, 744])"
      ]
     },
     "execution_count": 13,
     "metadata": {},
     "output_type": "execute_result"
    }
   ],
   "source": [
    "# Part 6: Compute the most-likely path via Viterbi algorithm\n",
    "\n",
    "#to be filled\n",
    "log_beta_viterbi = np.zeros((NumStates, T))\n",
    "log_beta_postdict_viterbi = np.zeros((NumStates, T))\n",
    "viterbi_path_b = np.zeros((NumStates, T), dtype=int)\n",
    "for t in range(T-1,-1,-1):\n",
    "    if t == T-1:\n",
    "        log_beta_postdict_viterbi[:, t] = np.zeros(NumStates)\n",
    "    else:\n",
    "        mx = np.max(log_beta_viterbi[:, t + 1])\n",
    "        p = np.exp(log_beta_viterbi[:, t + 1] - mx)\n",
    "        max_x = [np.max(A.T[i, :] * p) for i in range(NumStates)]\n",
    "        viterbi_path_b[:, t] = [np.argmax(A.T[i, :] * p) for i in range(NumStates)]\n",
    "        log_beta_postdict_viterbi[:, t] = np.log(max_x) + mx\n",
    "    log_beta_viterbi[:, t] = log_beta_postdict_viterbi[:, t] + logObs[:, t]\n",
    "\n",
    "ml_path_b = np.ones(T, dtype=int) * -1\n",
    "z = np.argmax(log_beta_viterbi[:, 0])\n",
    "ml_path_b[0] = z\n",
    "for t in range(T - 1):\n",
    "    z = viterbi_path_b[z, t]\n",
    "    ml_path_b[t+1] = z\n",
    "\n",
    "ml_path_b"
   ]
  },
  {
   "cell_type": "code",
   "execution_count": 14,
   "metadata": {},
   "outputs": [
    {
     "data": {
      "text/plain": [
       "array([0, 1, 2, 3, 4, 5, 6, 7, 8, 9, 0, 5])"
      ]
     },
     "execution_count": 14,
     "metadata": {},
     "output_type": "execute_result"
    }
   ],
   "source": [
    "decode_viterbi_b = np.array([States[i, 1] for i in ml_path_b if States[i, 0] == 1])\n",
    "decode_viterbi_b = decode_viterbi_b[decode_viterbi_b > 4]\n",
    "decode_viterbi_b[decode_viterbi_b < 15] -= 5\n",
    "decode_viterbi_b[decode_viterbi_b > 14] -= 15\n",
    "decode_viterbi_b"
   ]
  },
  {
   "cell_type": "code",
   "execution_count": 15,
   "metadata": {},
   "outputs": [
    {
     "data": {
      "text/plain": [
       "array([  0, 125, 250, 375, 498, 621, 743,   0, 125, 250, 375, 498, 621,\n",
       "       743,   2, 127, 252,   5, 130, 255, 378, 501, 623, 745,  12, 137,\n",
       "       262, 385, 508, 630, 752,  19, 144, 269, 392, 515, 637, 759,  26,\n",
       "       151, 276, 399, 522, 644, 766,  33, 158, 283, 406, 529, 651, 773,\n",
       "        40, 165, 290, 413, 536, 658, 780,   4, 129, 254, 377, 500, 101,\n",
       "       226, 351, 474, 597, 719, 841, 108, 233, 358, 481, 604, 726, 848,\n",
       "       115, 240, 365, 488, 611, 733, 855, 122, 247, 372, 495, 618, 740,\n",
       "       862,  69, 194, 319, 442, 565, 687, 809, 100, 225, 350, 473, 596,\n",
       "       718, 840,   3, 128, 253,   1, 126, 251, 376, 499, 622, 744,   1,\n",
       "       126, 251, 376, 499, 622, 744])"
      ]
     },
     "execution_count": 15,
     "metadata": {},
     "output_type": "execute_result"
    }
   ],
   "source": [
    "log_alpha_viterbi = np.zeros((NumStates, T))\n",
    "log_alpha_predict_viterbi = np.zeros((NumStates, T))\n",
    "viterbi_path_f = np.ones((NumStates, T), dtype=int)\n",
    "for t in range(T):\n",
    "    if t == 0:\n",
    "        log_alpha_predict_viterbi[:, t] = np.log(p_init)\n",
    "    else:\n",
    "        mx = np.max(log_alpha_viterbi[:, t - 1])\n",
    "        p = np.exp(log_alpha_viterbi[:, t - 1] - mx)\n",
    "        log_alpha_predict_viterbi[:, t] = np.log([np.max(A[i, :] * p) for i in range(NumStates)]) + mx\n",
    "        viterbi_path_f[:, t] = [np.argmax(A[i, :] * p) for i in range(NumStates)]\n",
    "    log_alpha_viterbi[:, t] = log_alpha_predict_viterbi[:, t] + logObs[:, t]\n",
    "    \n",
    "ml_path_f = np.ones(T, dtype=int) * -1\n",
    "z = np.argmax(log_alpha_viterbi[:, T-1])\n",
    "ml_path_f[T - 1] = z\n",
    "for t in range(T-1,0,-1):\n",
    "    z = viterbi_path_f[z, t]\n",
    "    ml_path_f[t - 1] = z\n",
    "\n",
    "ml_path_f"
   ]
  },
  {
   "cell_type": "code",
   "execution_count": 16,
   "metadata": {},
   "outputs": [
    {
     "data": {
      "text/plain": [
       "array([0, 1, 2, 3, 4, 5, 6, 7, 8, 9, 0, 5])"
      ]
     },
     "execution_count": 16,
     "metadata": {},
     "output_type": "execute_result"
    }
   ],
   "source": [
    "decode_viterbi_f = np.array([States[i, 1] for i in ml_path_f if States[i, 0] == 1])\n",
    "decode_viterbi_f = decode_viterbi_f[decode_viterbi_f > 4]\n",
    "decode_viterbi_f[decode_viterbi_f < 15] -= 5\n",
    "decode_viterbi_f[decode_viterbi_f > 14] -= 15\n",
    "decode_viterbi_f"
   ]
  }
 ],
 "metadata": {
  "kernelspec": {
   "display_name": "Python 3",
   "language": "python",
   "name": "python3"
  },
  "language_info": {
   "codemirror_mode": {
    "name": "ipython",
    "version": 3
   },
   "file_extension": ".py",
   "mimetype": "text/x-python",
   "name": "python",
   "nbconvert_exporter": "python",
   "pygments_lexer": "ipython3",
   "version": "3.6.3"
  }
 },
 "nbformat": 4,
 "nbformat_minor": 2
}
