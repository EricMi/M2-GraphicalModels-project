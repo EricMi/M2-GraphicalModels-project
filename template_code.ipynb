{
 "cells": [
  {
   "cell_type": "code",
   "execution_count": 55,
   "metadata": {
    "collapsed": true
   },
   "outputs": [],
   "source": [
    "import math\n",
    "from scipy.stats import norm"
   ]
  },
  {
   "cell_type": "code",
   "execution_count": 1,
   "metadata": {},
   "outputs": [
    {
     "data": {
      "image/png": "[encoded data removed]",
      "text/plain": [
       "<matplotlib.figure.Figure at 0x10d3fe3c8>"
      ]
     },
     "metadata": {},
     "output_type": "display_data"
    },
    {
     "name": "stdout",
     "output_type": "stream",
     "text": [
      "123\n"
     ]
    }
   ],
   "source": [
    "%run -i 'generate_barcode.py'\n",
    "print(np.asarray(stripes).size)"
   ]
  },
  {
   "cell_type": "code",
   "execution_count": 20,
   "metadata": {},
   "outputs": [
    {
     "name": "stdout",
     "output_type": "stream",
     "text": [
      "(865, 3)\n"
     ]
    }
   ],
   "source": [
    "S = len(patterns)\n",
    "patternLengths = np.zeros(S)\n",
    "for s in range(S):\n",
    "    patternLengths[s] = len(patterns[s])\n",
    "patternLengths = patternLengths.astype(int)\n",
    "\n",
    "M = 6\n",
    "C = patternLengths.max().astype(int)\n",
    "NumStates = C * S * M\n",
    "\n",
    "# Enumerate all the states\n",
    "States = (np.zeros((NumStates,3))).astype(int) - 1\n",
    "StatesInv = (np.zeros((C,S,M))).astype(int) - 1    # ix for a spesific c,s,m\n",
    "ix = 0\n",
    "for c in range(1,C+1):\n",
    "    for s in range(S):\n",
    "        for m in range(1,M+1):\n",
    "            if (s>4) or (s<=4 and m==1):\n",
    "                if c <= patternLengths[s]:\n",
    "                    States[ix,:] = [c,s,m]\n",
    "                    StatesInv[c-1,s,m-1] = ix\n",
    "                    ix += 1\n",
    "NumStates = ix\n",
    "States = States[0:NumStates, :]\n",
    "print(States.shape)\n",
    "# print(StatesInv[0])"
   ]
  },
  {
   "cell_type": "code",
   "execution_count": 30,
   "metadata": {},
   "outputs": [],
   "source": [
    "# Part1: Fill the transition matrix A\n",
    "# mapping states to binaru numbers, which will be useful for computing the likelihood\n",
    "# c, m 作为下标时 -1\n",
    "f_kst = np.zeros(NumStates).astype(int)\n",
    "A = np.zeros((NumStates,NumStates))\n",
    "\n",
    "for i in range(NumStates):\n",
    "    c = States[i,0]\n",
    "    s = States[i,1]\n",
    "    m = States[i,2]\n",
    "    \n",
    "    patternLen = patternLengths[s]\n",
    "    f_kst[i] = patterns[s][c-1]    # deternines if this state is black or white\n",
    "    \n",
    "    if s==0:    #starting quiet zone\n",
    "        if c==patternLen:\n",
    "            for ss in [0,2]:  # The next states can only be either starting quiet zone, or the starting guard\n",
    "                s_next = ss\n",
    "                c_next = 1\n",
    "                m_next = 1\n",
    "                \n",
    "                nextStateIx = StatesInv[c_next-1,s_next,m_next-1]\n",
    "                A[nextStateIx,i] = 1/2\n",
    "        else:\n",
    "            c_next = c+1\n",
    "            s_next = s\n",
    "            m_next = m\n",
    "            \n",
    "            nextStateIx = StatesInv[c_next-1,s_next,m_next-1]\n",
    "            A[nextStateIx,i] = 1\n",
    "    elif s==1:    # ending quiet zone\n",
    "        if c!=patternLen:\n",
    "            c_next = c+1\n",
    "            s_next = s\n",
    "            m_next = m\n",
    "            nextStateIx = StatesInv[c_next-1,s_next,m_next-1]\n",
    "            A[nextStateIx,i] = 1\n",
    "            \n",
    "    elif s==2:    # starting guard\n",
    "        if c==patternLen:    # starting the first left digit\n",
    "            c_next = 1\n",
    "            m_next = 1\n",
    "            for ss in range(5,15):\n",
    "                s_next = ss\n",
    "                nextStateIx = StatesInv[c_next-1,s_next,m_next-1]\n",
    "                A[nextStateIx,i] = 1/10\n",
    "        else:\n",
    "            c_next = c+1\n",
    "            s_next = s\n",
    "            m_next = m\n",
    "            nextStateIx = StatesInv[c_next-1,s_next,m_next-1]\n",
    "            A[nextStateIx,i] = 1\n",
    "            \n",
    "    elif s==3:    # ending guard\n",
    "        if c==patternLen:\n",
    "            s_next = 1\n",
    "            c_next = 1\n",
    "            m_next = 1\n",
    "        else:\n",
    "            s_next = s\n",
    "            c_next = c+1\n",
    "            m_next = m\n",
    "        nextStateIx = StatesInv[c_next-1,s_next,m_next-1]\n",
    "        A[nextStateIx,i] = 1\n",
    "    \n",
    "    elif s==4:    #middle guard\n",
    "        if c==patternLen:    # starting the first right digit\n",
    "            c_next = 1\n",
    "            m_next = 1\n",
    "            for ss in range(15,25):\n",
    "                s_next = ss\n",
    "                nextStateIx = StatesInv[c_next-1,s_next,m_next-1]\n",
    "                A[nextStateIx,i] = 1/10\n",
    "        else:\n",
    "            c_next = c+1\n",
    "            s_next = s\n",
    "            m_next = m\n",
    "            nextStateIx = StatesInv[c_next-1,s_next,m_next-1]\n",
    "            A[nextStateIx,i] = 1\n",
    "    \n",
    "    elif s in range(5,15):    # left symbols\n",
    "        if c==patternLen:    \n",
    "            c_next = 1\n",
    "            if m==6:    # end of left digits\n",
    "                s_next = 4\n",
    "                m_next = 1\n",
    "                nextStateIx = StatesInv[c_next-1,s_next,m_next-1]\n",
    "                A[nextStateIx,i] = 1\n",
    "            else:    # starting the next left digit\n",
    "                m_next = m+1\n",
    "                for ss in range(5,15):\n",
    "                    s_next = ss\n",
    "                    nextStateIx = StatesInv[c_next-1,s_next,m_next-1]\n",
    "                    A[nextStateIx,i] = 1/10\n",
    "        else:\n",
    "            c_next = c+1\n",
    "            s_next = s\n",
    "            m_next = m\n",
    "            nextStateIx = StatesInv[c_next-1,s_next,m_next-1]\n",
    "            A[nextStateIx,i] = 1\n",
    "            \n",
    "    elif s in range(15,25):    # right symbols\n",
    "        if c==patternLen:\n",
    "            c_next = 1\n",
    "            if m==6:    # end of right digits\n",
    "                s_next = 3\n",
    "                m_next = 1\n",
    "                nextStateIx = StatesInv[c_next-1,s_next,m_next-1]\n",
    "                A[nextStateIx,i] = 1\n",
    "            else:    # the next right digit\n",
    "                m_next = m+1\n",
    "                for ss in range(15,25):\n",
    "                    s_next = ss\n",
    "                    nextStateIx = StatesInv[c_next-1,s_next,m_next-1]\n",
    "                    A[nextStateIx,i] = 1/10\n",
    "        else:\n",
    "            c_next = c+1\n",
    "            s_next = s\n",
    "            m_next = m\n",
    "            nextStateIx = StatesInv[c_next-1,s_next,m_next-1]\n",
    "            A[nextStateIx,i] = 1"
   ]
  },
  {
   "cell_type": "code",
   "execution_count": 44,
   "metadata": {},
   "outputs": [],
   "source": [
    "# Part2: Compute the initial probability\n",
    "p_init = np.zeros((NumStates,NumStates))\n",
    "# Suppose that the initial probability is a uniform distribution over the\n",
    "# states with s_n = 0\n",
    "mask_support_init = States[:, 1] == 0\n",
    "cnt_support_init = np.sum(mask_support_init)\n",
    "\n",
    "p_init[mask_support_init] = 1. / cnt_support_init"
   ]
  },
  {
   "cell_type": "code",
   "execution_count": 57,
   "metadata": {},
   "outputs": [
    {
     "name": "stderr",
     "output_type": "stream",
     "text": [
      "generate_barcode.py:13: RuntimeWarning: divide by zero encountered in log\n",
      "  chksum = (10 - (3*sum(code[0::2])+sum(code[1::2]))%10) % 10\n"
     ]
    }
   ],
   "source": [
    "# Part3: Compute the log-likelihood\n",
    "T = len(obs)\n",
    "\n",
    "logObs = np.zeros((NumStates,T))\n",
    "mu= np.array([250, 20])\n",
    "sigma = np.array([math.sqrt(5), math.sqrt(5)])\n",
    "\n",
    "p_state = p_init \n",
    "\n",
    "for t in range(0, T):\n",
    "    # to be filled\n",
    "    # you can use the variable f_kst here\n",
    "    logObs = np.log(p_state) + [norm.pdf(obs[t], mu[i], sigma[i]) for i in\n",
    "            f_kst]\n",
    "    p_state = A.dot(p_state)"
   ]
  },
  {
   "cell_type": "code",
   "execution_count": null,
   "metadata": {
    "collapsed": true
   },
   "outputs": [],
   "source": []
  }
 ],
 "metadata": {
  "kernelspec": {
   "display_name": "Python 3",
   "language": "python",
   "name": "python3"
  },
  "language_info": {
   "codemirror_mode": {
    "name": "ipython",
    "version": 3
   },
   "file_extension": ".py",
   "mimetype": "text/x-python",
   "name": "python",
   "nbconvert_exporter": "python",
   "pygments_lexer": "ipython3",
   "version": "3.6.3"
  }
 },
 "nbformat": 4,
 "nbformat_minor": 2
}
