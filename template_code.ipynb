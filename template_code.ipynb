{
 "cells": [
  {
   "cell_type": "code",
   "execution_count": 214,
   "metadata": {
    "collapsed": true
   },
   "outputs": [],
   "source": [
    "import numpy as np\n",
    "from scipy.stats import norm\n",
    "import matplotlib.pyplot as plt\n",
    "eps = np.finfo(float).eps"
   ]
  },
  {
   "cell_type": "code",
   "execution_count": 250,
   "metadata": {},
   "outputs": [
    {
     "data": {
      "image/png": "[encoded data removed]",
      "text/plain": [
       "<matplotlib.figure.Figure at 0x1a1900ceb8>"
      ]
     },
     "metadata": {},
     "output_type": "display_data"
    },
    {
     "name": "stdout",
     "output_type": "stream",
     "text": [
      "Patterns Generated !\n",
      "Stripe size : 123\n",
      "With obs_noise : 20\n"
     ]
    }
   ],
   "source": [
    "%run -i 'generate_barcode.py'\n",
    "print(\"Patterns Generated !\")\n",
    "print(\"Stripe size : {}\".format(np.asarray(stripes).size))\n",
    "print(\"With obs_noise : {}\".format(obs_noise))"
   ]
  },
  {
   "cell_type": "markdown",
   "metadata": {},
   "source": [
    "### Generate State matrix and StatesInv"
   ]
  },
  {
   "cell_type": "code",
   "execution_count": 226,
   "metadata": {},
   "outputs": [
    {
     "name": "stdout",
     "output_type": "stream",
     "text": [
      "Shape of State matrix: (865, 3)\n"
     ]
    }
   ],
   "source": [
    "S = len(patterns)\n",
    "patternLengths = np.zeros(S, dtype=int)\n",
    "for s in range(S):\n",
    "    patternLengths[s] = len(patterns[s])\n",
    "\n",
    "M = 6\n",
    "C = patternLengths.max()\n",
    "NumStates = C * S * M\n",
    "\n",
    "# Enumerate all possible states\n",
    "States = np.zeros((NumStates,3), dtype=int) - 1\n",
    "StatesInv = np.zeros((C,S,M), dtype=int) - 1    # ix for a spesific c,s,m\n",
    "ix = 0\n",
    "for c in range(1,C+1):\n",
    "    for s in range(S):\n",
    "        for m in range(1,M+1):\n",
    "            if (s>4) or (s<=4 and m==1):\n",
    "                if c <= patternLengths[s]:\n",
    "                    States[ix,:] = [c,s,m]\n",
    "                    StatesInv[c-1,s,m-1] = ix\n",
    "                    ix += 1\n",
    "NumStates = ix\n",
    "# Keep only the meaningful states:\n",
    "States = States[0:NumStates, :]\n",
    "print(\"Shape of State matrix: {}\".format(States.shape))\n"
   ]
  },
  {
   "cell_type": "markdown",
   "metadata": {},
   "source": [
    "### From the state matrix, generate the transition matrix A"
   ]
  },
  {
   "cell_type": "code",
   "execution_count": 251,
   "metadata": {},
   "outputs": [],
   "source": [
    "# Part1: Fill the transition matrix A\n",
    "# mapping states to binaru numbers, which will be useful for computing the likelihood\n",
    "f_kst = np.zeros(NumStates, dtype=int)\n",
    "A = np.zeros((NumStates,NumStates))\n",
    "\n",
    "for i in range(NumStates):\n",
    "    c = States[i,0]\n",
    "    s = States[i,1]\n",
    "    m = States[i,2]\n",
    "    \n",
    "    patternLen = patternLengths[s]\n",
    "    f_kst[i] = patterns[s][c-1]    # deternines if this state is black or white\n",
    "    \n",
    "    if s==0:    #starting quiet zone\n",
    "        if c==patternLen:\n",
    "            for ss in [0,2]:  # The next states can only be either starting quiet zone, or the starting guard\n",
    "                s_next = ss\n",
    "                c_next = 1\n",
    "                m_next = 1\n",
    "                \n",
    "                nextStateIx = StatesInv[c_next-1,s_next,m_next-1]\n",
    "                A[nextStateIx,i] = 1/2\n",
    "        else:\n",
    "            c_next = c+1\n",
    "            s_next = s\n",
    "            m_next = m\n",
    "            \n",
    "            nextStateIx = StatesInv[c_next-1,s_next,m_next-1]\n",
    "            A[nextStateIx,i] = 1\n",
    "            \n",
    "    elif s==1:    # ending quiet zone\n",
    "        if c==patternLen:\n",
    "            c_next = 1\n",
    "            s_next = s\n",
    "            m_next = m\n",
    "            nextStateIx = StatesInv[c_next-1,s_next,m_next-1]\n",
    "            A[nextStateIx,i] = 1\n",
    "        else:\n",
    "            c_next = c+1\n",
    "            s_next = s\n",
    "            m_next = m\n",
    "            nextStateIx = StatesInv[c_next-1,s_next,m_next-1]\n",
    "            A[nextStateIx,i] = 1\n",
    "            \n",
    "    elif s==2:    # starting guard\n",
    "        if c==patternLen:    # starting the first left digit\n",
    "            c_next = 1\n",
    "            m_next = 1\n",
    "            for ss in range(5,15):\n",
    "                s_next = ss\n",
    "                nextStateIx = StatesInv[c_next-1,s_next,m_next-1]\n",
    "                A[nextStateIx,i] = 1/10\n",
    "        else:\n",
    "            c_next = c+1\n",
    "            s_next = s\n",
    "            m_next = m\n",
    "            nextStateIx = StatesInv[c_next-1,s_next,m_next-1]\n",
    "            A[nextStateIx,i] = 1\n",
    "            \n",
    "    elif s==3:    # ending guard\n",
    "        if c==patternLen:\n",
    "            s_next = 1\n",
    "            c_next = 1\n",
    "            m_next = 1\n",
    "        else:\n",
    "            c_next = c+1\n",
    "            s_next = s\n",
    "            m_next = m\n",
    "        nextStateIx = StatesInv[c_next-1,s_next,m_next-1]\n",
    "        A[nextStateIx,i] = 1\n",
    "    \n",
    "    elif s==4:    #middle guard\n",
    "        if c==patternLen:    # starting the first right digit\n",
    "            c_next = 1\n",
    "            m_next = 1\n",
    "            for ss in range(15,25):\n",
    "                s_next = ss\n",
    "                nextStateIx = StatesInv[c_next-1,s_next,m_next-1]\n",
    "                A[nextStateIx,i] = 1/10\n",
    "        else:\n",
    "            c_next = c+1\n",
    "            s_next = s\n",
    "            m_next = m\n",
    "            nextStateIx = StatesInv[c_next-1,s_next,m_next-1]\n",
    "            A[nextStateIx,i] = 1\n",
    "    \n",
    "    elif s in range(5,15):    # left symbols\n",
    "        if c==patternLen:    \n",
    "            c_next = 1\n",
    "            if m==6:    # end of left digits\n",
    "                s_next = 4\n",
    "                m_next = 1\n",
    "                nextStateIx = StatesInv[c_next-1,s_next,m_next-1]\n",
    "                A[nextStateIx,i] = 1\n",
    "            else:    # starting the next left digit\n",
    "                m_next = m+1\n",
    "                for ss in range(5,15):\n",
    "                    s_next = ss\n",
    "                    nextStateIx = StatesInv[c_next-1,s_next,m_next-1]\n",
    "                    A[nextStateIx,i] = 1/10\n",
    "        else:\n",
    "            c_next = c+1\n",
    "            s_next = s\n",
    "            m_next = m\n",
    "            nextStateIx = StatesInv[c_next-1,s_next,m_next-1]\n",
    "            A[nextStateIx,i] = 1\n",
    "            \n",
    "    elif s in range(15,25):    # right symbols\n",
    "        if c==patternLen:\n",
    "            c_next = 1\n",
    "            if m==6:    # end of right digits\n",
    "                s_next = 3\n",
    "                m_next = 1\n",
    "                nextStateIx = StatesInv[c_next-1,s_next,m_next-1]\n",
    "                A[nextStateIx,i] = 1\n",
    "            else:    # the next right digit\n",
    "                m_next = m+1\n",
    "                for ss in range(15,25):\n",
    "                    s_next = ss\n",
    "                    nextStateIx = StatesInv[c_next-1,s_next,m_next-1]\n",
    "                    A[nextStateIx,i] = 1/10\n",
    "        else:\n",
    "            c_next = c+1\n",
    "            s_next = s\n",
    "            m_next = m\n",
    "            nextStateIx = StatesInv[c_next-1,s_next,m_next-1]\n",
    "            A[nextStateIx,i] = 1\n",
    "\n",
    "A[A < eps] = eps"
   ]
  },
  {
   "cell_type": "code",
   "execution_count": 252,
   "metadata": {},
   "outputs": [],
   "source": [
    "# Part2: Compute the initial probability\n",
    "p_init = np.zeros(NumStates)\n",
    "# Suppose that the initial probability is a uniform distribution over the\n",
    "# states with s_n = 0\n",
    "mask_support_init = States[:, 1] == 0\n",
    "cnt_support_init = np.sum(mask_support_init)\n",
    "\n",
    "p_init[mask_support_init] = 1. / cnt_support_init"
   ]
  },
  {
   "cell_type": "code",
   "execution_count": 253,
   "metadata": {
    "collapsed": true
   },
   "outputs": [],
   "source": [
    "# Part3: Compute the log-likelihood\n",
    "T = len(obs)\n",
    "\n",
    "logObs = np.zeros((NumStates, T))\n",
    "mu= np.array([250, 0])\n",
    "sigma = np.array([1,1])\n",
    "\n",
    "for t in range(0, T):\n",
    "    # you can use the variable f_kst here\n",
    "    logObs[:, t] = [norm.logpdf(255 - obs[t], mu[i], sigma[i]) for i in f_kst]"
   ]
  },
  {
   "cell_type": "markdown",
   "metadata": {},
   "source": [
    "### Question 3 : Simulate the HMM and visualize the simulated data."
   ]
  },
  {
   "cell_type": "code",
   "execution_count": 241,
   "metadata": {
    "collapsed": true
   },
   "outputs": [],
   "source": [
    "np.random.seed(1)\n",
    "\n",
    "p_state = p_init\n",
    "s_states = np.empty((1, 0), dtype=int)\n",
    "s_obs = np.empty((1, 0))\n",
    "state = 0\n",
    "while state != StatesInv[6, 1, 0]:\n",
    "    r = np.random.uniform(0, p_state.sum())\n",
    "    state = np.sum([p_state.cumsum() < r])\n",
    "    s_states = np.append(s_states, state)\n",
    "    s_obs = np.append(s_obs, np.random.normal(mu[f_kst[state]], sigma[f_kst[state]]))\n",
    "    p_state = A[:, state]\n",
    "s_obs[s_obs < 0] = 0\n",
    "s_obs[s_obs > 255] = 255"
   ]
  },
  {
   "cell_type": "code",
   "execution_count": 243,
   "metadata": {},
   "outputs": [
    {
     "name": "stdout",
     "output_type": "stream",
     "text": [
      "Generated code: [1 8 4 5 2 5 9 5 0 0 7 9]\n"
     ]
    }
   ],
   "source": [
    "s_symbols = np.array([States[i, 1] for i in s_states if States[i, 0] == 1])\n",
    "s_code = s_symbols[s_symbols > 4]\n",
    "s_code[s_code < 15] -= 5\n",
    "s_code[s_code > 14] -= 15\n",
    "print(\"Generated code: {}\".format(s_code))"
   ]
  },
  {
   "cell_type": "code",
   "execution_count": 244,
   "metadata": {},
   "outputs": [
    {
     "data": {
      "image/png": "[encoded data removed]",
      "text/plain": [
       "<matplotlib.figure.Figure at 0x1a10037198>"
      ]
     },
     "metadata": {},
     "output_type": "display_data"
    }
   ],
   "source": [
    "# generate the image\n",
    "plt.figure()\n",
    "bc_image = np.tile(s_obs, (50,1))\n",
    "plt.axis(\"off\")\n",
    "plt.imshow(bc_image, cmap='gray',vmin=0,vmax=255)\n",
    "plt.title(str(s_code))\n",
    "plt.show()"
   ]
  },
  {
   "cell_type": "markdown",
   "metadata": {},
   "source": [
    "### Filtering distribution"
   ]
  },
  {
   "cell_type": "code",
   "execution_count": 257,
   "metadata": {},
   "outputs": [],
   "source": [
    "# Part 4: Compute the filtering distribution via Forward recursion\n",
    "# For numerical stability\n",
    "p_init[p_init < eps] = eps\n",
    "\n",
    "# log_alpha: update message in forward pass \n",
    "# log_alpha_predict: predict message in forward pass\n",
    "log_alpha = np.zeros((NumStates, T))\n",
    "log_alpha_predict = np.zeros((NumStates, T))\n",
    "for t in range(T):\n",
    "    if t == 0:\n",
    "        log_alpha_predict[:, t] = np.log(p_init)\n",
    "    else:\n",
    "        mx = np.max(log_alpha[:, t - 1])\n",
    "        p = np.exp(log_alpha[:, t - 1] - mx)\n",
    "        log_alpha_predict[:, t] = np.log(A.dot(p)) + mx\n",
    "    log_alpha[:, t] = log_alpha_predict[:, t] + logObs[:, t]\n",
    "\n",
    "# d_filtering: filtering distribution\n",
    "d_filtering = np.zeros((NumStates, T))\n",
    "for t in range(T):\n",
    "    mx = max(log_alpha[:, t])\n",
    "    alpha = np.exp(log_alpha[:, t] - mx) + np.exp(mx)\n",
    "    d_filtering[:, t] = alpha / np.sum(alpha)\n",
    "\n",
    "# marginal filtering distribution of s, c and m\n",
    "d_marginal_filtering_s = np.zeros((S, T))\n",
    "d_marginal_filtering_c = np.zeros((C, T))\n",
    "d_marginal_filtering_m = np.zeros((M, T))\n",
    "for t in range(T):\n",
    "    for s in range(S):\n",
    "        mask_s = [States[:, 1] == s]\n",
    "        d_marginal_filtering_s[s, t] = np.sum(d_filtering[:, t][mask_s])\n",
    "    for c in range(C):\n",
    "        mask_c = [States[:, 0] == c+1]\n",
    "        d_marginal_filtering_c[c, t] = np.sum(d_filtering[:, t][mask_c])\n",
    "    for m in range(M):\n",
    "        mask_m = [States[:, 2] == m+1]\n",
    "        d_marginal_filtering_m[m, t] = np.sum(d_filtering[:, t][mask_m])"
   ]
  },
  {
   "cell_type": "markdown",
   "metadata": {},
   "source": [
    "### Smoothing distribution"
   ]
  },
  {
   "cell_type": "code",
   "execution_count": 258,
   "metadata": {
    "collapsed": true
   },
   "outputs": [],
   "source": [
    "# Part 5: Compute the smoothing distribution via Forward-Backward recursion\n",
    "\n",
    "# log_beta: update message in backward pass\n",
    "# log_beta_postdict: postdict message in backward pass\n",
    "log_beta = np.zeros((NumStates, T))\n",
    "log_beta_postdict = np.zeros((NumStates, T))\n",
    "for t in range(T-1,-1,-1):\n",
    "    if t == T-1:\n",
    "        log_beta_postdict[:, t] = np.zeros(NumStates)\n",
    "    else:\n",
    "        mx = np.max(log_beta[:, t + 1])\n",
    "        p = np.exp(log_beta[:, t + 1] - mx)\n",
    "        log_beta_postdict[:, t] = np.log(A.T.dot(p)) + mx\n",
    "    log_beta[:, t] = log_beta_postdict[:, t] + logObs[:, t]\n",
    "\n",
    "# d_smoothing: smoothing distribution\n",
    "d_smoothing = np.zeros((NumStates, T))\n",
    "for t in range(T):\n",
    "    mx = max(log_alpha[:, t] + log_beta_postdict[:, t])\n",
    "    gamma = np.exp(log_alpha[:, t] + log_beta_postdict[:, t] - mx) + np.exp(mx)\n",
    "    d_smoothing[:, t] = gamma / np.sum(gamma)\n",
    "\n",
    "# d_marginal_smoothing_s: marginal smoothing distribution of s,c and m\n",
    "d_marginal_smoothing_s = np.zeros((S, T))\n",
    "d_marginal_smoothing_c = np.zeros((C, T))\n",
    "d_marginal_smoothing_m = np.zeros((M, T))\n",
    "for t in range(T):\n",
    "    for s in range(S):\n",
    "        mask_s = [States[:, 1] == s]\n",
    "        d_marginal_smoothing_s[s, t] = np.sum(d_smoothing[:, t][mask_s])\n",
    "    for c in range(C):\n",
    "        mask_c = [States[:, 0] == c+1]\n",
    "        d_marginal_smoothing_c[c, t] = np.sum(d_smoothing[:, t][mask_c])\n",
    "    for m in range(M):\n",
    "        mask_m = [States[:, 2] == m+1]\n",
    "        d_marginal_smoothing_m[m, t] = np.sum(d_smoothing[:, t][mask_m])"
   ]
  },
  {
   "cell_type": "markdown",
   "metadata": {},
   "source": [
    "### Viterbi algorithm"
   ]
  },
  {
   "cell_type": "code",
   "execution_count": 259,
   "metadata": {},
   "outputs": [],
   "source": [
    "# Part 6: Compute the most-likely path via Viterbi algorithm\n",
    "\n",
    "log_beta_viterbi = np.zeros((NumStates, T))\n",
    "log_beta_postdict_viterbi = np.zeros((NumStates, T))\n",
    "viterbi_path_b = np.zeros((NumStates, T), dtype=int)\n",
    "for t in range(T-1,-1,-1):\n",
    "    if t == T-1:\n",
    "        log_beta_postdict_viterbi[:, t] = np.zeros(NumStates)\n",
    "    else:\n",
    "        mx = np.max(log_beta_viterbi[:, t + 1])\n",
    "        p = np.exp(log_beta_viterbi[:, t + 1] - mx)\n",
    "        max_x = [np.max(A.T[i, :] * p) for i in range(NumStates)]\n",
    "        viterbi_path_b[:, t] = [np.argmax(A.T[i, :] * p) for i in range(NumStates)]\n",
    "        log_beta_postdict_viterbi[:, t] = np.log(max_x) + mx\n",
    "    log_beta_viterbi[:, t] = log_beta_postdict_viterbi[:, t] + logObs[:, t]\n",
    "\n",
    "ml_path_b = np.ones(T, dtype=int) * -1\n",
    "z = np.argmax(log_beta_viterbi[:, 0])\n",
    "ml_path_b[0] = z\n",
    "for t in range(T - 1):\n",
    "    z = viterbi_path_b[z, t]\n",
    "    ml_path_b[t+1] = z\n",
    "\n",
    "# ml_path_b"
   ]
  },
  {
   "cell_type": "code",
   "execution_count": 262,
   "metadata": {
    "collapsed": true
   },
   "outputs": [],
   "source": [
    "# Get the most-likely path for c, s and m\n",
    "c_path = States[ml_path_b][:,0]\n",
    "s_path = States[ml_path_b][:,1]\n",
    "m_path = States[ml_path_b][:,2]"
   ]
  },
  {
   "cell_type": "markdown",
   "metadata": {},
   "source": [
    "### Question 8"
   ]
  },
  {
   "cell_type": "code",
   "execution_count": 278,
   "metadata": {},
   "outputs": [
    {
     "name": "stdout",
     "output_type": "stream",
     "text": [
      "Randomly generated barcode: [3, 6, 7, 0, 3, 3, 6, 8, 6, 5, 1, 0]\n"
     ]
    },
    {
     "data": {
      "image/png": "[encoded data removed]",
      "text/plain": [
       "<matplotlib.figure.Figure at 0x1a18fc4b38>"
      ]
     },
     "metadata": {},
     "output_type": "display_data"
    },
    {
     "data": {
      "image/png": "[encoded data removed]",
      "text/plain": [
       "<matplotlib.figure.Figure at 0x1a1b4f3ef0>"
      ]
     },
     "metadata": {},
     "output_type": "display_data"
    },
    {
     "data": {
      "image/png": "[encoded data removed]",
      "text/plain": [
       "<matplotlib.figure.Figure at 0x1a18e4feb8>"
      ]
     },
     "metadata": {},
     "output_type": "display_data"
    }
   ],
   "source": [
    "print(\"Randomly generated barcode: {}\".format(code))\n",
    "plt.figure(figsize=(16,6))\n",
    "plt.imshow(1-d_marginal_filtering_c,cmap=\"gray\",origin=\"lower\")\n",
    "plt.title(\"c, m, s of filtering distribution with obs_noise {}\".format(obs_noise), fontsize=16)\n",
    "plt.show()\n",
    "plt.figure(figsize=(16,6))\n",
    "plt.imshow(1-d_marginal_filtering_m,cmap=\"gray\",origin=\"lower\")\n",
    "plt.show()\n",
    "plt.figure(figsize=(16,6))\n",
    "plt.imshow(1-d_marginal_filtering_s,cmap=\"gray\",origin=\"lower\")\n",
    "plt.show()"
   ]
  },
  {
   "cell_type": "code",
   "execution_count": 274,
   "metadata": {},
   "outputs": [
    {
     "data": {
      "image/png": "[encoded data removed]",
      "text/plain": [
       "<matplotlib.figure.Figure at 0x1a18e305c0>"
      ]
     },
     "metadata": {},
     "output_type": "display_data"
    },
    {
     "data": {
      "image/png": "[encoded data removed]",
      "text/plain": [
       "<matplotlib.figure.Figure at 0x1a1a527d68>"
      ]
     },
     "metadata": {},
     "output_type": "display_data"
    },
    {
     "data": {
      "image/png": "[encoded data removed]",
      "text/plain": [
       "<matplotlib.figure.Figure at 0x1a1a53e9e8>"
      ]
     },
     "metadata": {},
     "output_type": "display_data"
    }
   ],
   "source": [
    "plt.figure(figsize=(16,6))\n",
    "plt.imshow(1-d_marginal_smoothing_c,cmap=\"gray\",origin=\"lower\")\n",
    "plt.title(\"c, m, s of smoothing distribution with obs_noise {}\".format(obs_noise), fontsize=16)\n",
    "plt.show()\n",
    "plt.figure(figsize=(16,6))\n",
    "plt.imshow(1-d_marginal_smoothing_m,cmap=\"gray\",origin=\"lower\")\n",
    "plt.show()\n",
    "plt.figure(figsize=(16,6))\n",
    "plt.imshow(1-d_marginal_smoothing_s,cmap=\"gray\",origin=\"lower\")\n",
    "plt.show()"
   ]
  },
  {
   "cell_type": "code",
   "execution_count": 286,
   "metadata": {},
   "outputs": [
    {
     "data": {
      "image/png": "[encoded data removed]",
      "text/plain": [
       "<matplotlib.figure.Figure at 0x1a1ade3550>"
      ]
     },
     "metadata": {},
     "output_type": "display_data"
    }
   ],
   "source": [
    "plt.figure(figsize=(16,8))\n",
    "plt.subplot(311)\n",
    "plt.plot(c_path)\n",
    "plt.title(\"c, m, s of most-likely path by Viterbi algorithm\", fontsize=16)\n",
    "plt.subplot(312)\n",
    "plt.plot(m_path)\n",
    "plt.subplot(313)\n",
    "plt.plot(s_path)\n",
    "plt.show()"
   ]
  },
  {
   "cell_type": "code",
   "execution_count": null,
   "metadata": {
    "collapsed": true
   },
   "outputs": [],
   "source": []
  }
 ],
 "metadata": {
  "kernelspec": {
   "display_name": "Python 3",
   "language": "python",
   "name": "python3"
  },
  "language_info": {
   "codemirror_mode": {
    "name": "ipython",
    "version": 3
   },
   "file_extension": ".py",
   "mimetype": "text/x-python",
   "name": "python",
   "nbconvert_exporter": "python",
   "pygments_lexer": "ipython3",
   "version": "3.6.3"
  }
 },
 "nbformat": 4,
 "nbformat_minor": 2
}
